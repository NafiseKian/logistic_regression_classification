{
  "cells": [
    {
      "cell_type": "markdown",
      "metadata": {
        "id": "view-in-github",
        "colab_type": "text"
      },
      "source": [
        "<a href=\"https://colab.research.google.com/github/NafiseKian/logistic_regression_classification/blob/main/project_binary_classification.ipynb\" target=\"_parent\"><img src=\"https://colab.research.google.com/assets/colab-badge.svg\" alt=\"Open In Colab\"/></a>"
      ]
    },
    {
      "cell_type": "markdown",
      "metadata": {
        "id": "390UmUWj3pRS"
      },
      "source": [
        "**Project: Malignant and Benign Cancer Detection**\n",
        "\n",
        "You have to implement binary classification algorithm. The tasks are given below. Everything must be implemented from scracth using only Python basics (such as loops, functions, and so on) and numpy arrays.\n",
        "\n",
        "It is forbidden to use any ML libraries.\n"
      ]
    },
    {
      "cell_type": "markdown",
      "metadata": {
        "id": "pemVujRO3pRZ"
      },
      "source": [
        "**Tasks:**\n",
        "\n",
        "* Implement polynomial features [10p]\n",
        "* Implement minmax normalisation [10p]\n",
        "* Implement logistic regression loss function and gradient descent algorithm [10p]\n",
        "* Plot learning and test curve [10p]\n",
        "* Generate test prediction (test dataset) [10p]\n",
        "* Fill the confusion matrix (test dataset) [10p]\n",
        "* Compute F1 score, precision, recall and accuracy using confusion matrix (test dataset) [10p]\n",
        "* Try various learning rate and compute F1 score of each learning rate (test dataset) [10p]\n",
        "* Learning rates: (0.0001, 0.0005, 0.0007, 0.001, 0.005, 0.001, 0.01, 0.05, 0.09, 0.1, 0.4, 0.7) [10p]\n",
        "* Generate the lists for each learning rate and its associated F1 score and plot (test dataset) [10p]"
      ]
    },
    {
      "cell_type": "code",
      "execution_count": 1,
      "metadata": {
        "id": "2f0CepGy3pRb"
      },
      "outputs": [],
      "source": [
        "import numpy as np\n",
        "import pandas as pd\n",
        "import matplotlib.pyplot as plt\n",
        "import seaborn as sns"
      ]
    },
    {
      "cell_type": "code",
      "execution_count": 2,
      "metadata": {
        "colab": {
          "base_uri": "https://localhost:8080/"
        },
        "id": "cxSxkKJY3pRe",
        "outputId": "5ca06a0c-d043-49a6-cb76-10bd824f86da"
      },
      "outputs": [
        {
          "output_type": "stream",
          "name": "stdout",
          "text": [
            "   diagnosis  radius_mean  texture_mean  perimeter_mean  area_mean  \\\n",
            "0          1        17.99         10.38          122.80     1001.0   \n",
            "1          1        20.57         17.77          132.90     1326.0   \n",
            "2          1        19.69         21.25          130.00     1203.0   \n",
            "3          1        11.42         20.38           77.58      386.1   \n",
            "4          1        20.29         14.34          135.10     1297.0   \n",
            "\n",
            "   smoothness_mean  compactness_mean  concavity_mean  concave points_mean  \\\n",
            "0          0.11840           0.27760          0.3001              0.14710   \n",
            "1          0.08474           0.07864          0.0869              0.07017   \n",
            "2          0.10960           0.15990          0.1974              0.12790   \n",
            "3          0.14250           0.28390          0.2414              0.10520   \n",
            "4          0.10030           0.13280          0.1980              0.10430   \n",
            "\n",
            "   symmetry_mean  ...  radius_worst  texture_worst  perimeter_worst  \\\n",
            "0         0.2419  ...         25.38          17.33           184.60   \n",
            "1         0.1812  ...         24.99          23.41           158.80   \n",
            "2         0.2069  ...         23.57          25.53           152.50   \n",
            "3         0.2597  ...         14.91          26.50            98.87   \n",
            "4         0.1809  ...         22.54          16.67           152.20   \n",
            "\n",
            "   area_worst  smoothness_worst  compactness_worst  concavity_worst  \\\n",
            "0      2019.0            0.1622             0.6656           0.7119   \n",
            "1      1956.0            0.1238             0.1866           0.2416   \n",
            "2      1709.0            0.1444             0.4245           0.4504   \n",
            "3       567.7            0.2098             0.8663           0.6869   \n",
            "4      1575.0            0.1374             0.2050           0.4000   \n",
            "\n",
            "   concave points_worst  symmetry_worst  fractal_dimension_worst  \n",
            "0                0.2654          0.4601                  0.11890  \n",
            "1                0.1860          0.2750                  0.08902  \n",
            "2                0.2430          0.3613                  0.08758  \n",
            "3                0.2575          0.6638                  0.17300  \n",
            "4                0.1625          0.2364                  0.07678  \n",
            "\n",
            "[5 rows x 31 columns]\n",
            "\n",
            "['diagnosis', 'radius_mean', 'texture_mean', 'perimeter_mean', 'area_mean', 'smoothness_mean', 'compactness_mean', 'concavity_mean', 'concave points_mean', 'symmetry_mean', 'fractal_dimension_mean', 'radius_se', 'texture_se', 'perimeter_se', 'area_se', 'smoothness_se', 'compactness_se', 'concavity_se', 'concave points_se', 'symmetry_se', 'fractal_dimension_se', 'radius_worst', 'texture_worst', 'perimeter_worst', 'area_worst', 'smoothness_worst', 'compactness_worst', 'concavity_worst', 'concave points_worst', 'symmetry_worst', 'fractal_dimension_worst']\n",
            "[1. 1. 1. 1. 1.]\n",
            "input dim:(569, 30)\n",
            "output dim:(569, 1)\n"
          ]
        }
      ],
      "source": [
        "# read the data file\n",
        "df = pd.read_csv('cancer_data.csv')\n",
        "df.head() # diplay first 5 rows\n",
        "\n",
        "# remove some of the columns because we don't need\n",
        "df.drop('Unnamed: 32', inplace = True, axis = 1)\n",
        "df.drop('id', inplace=True, axis=1)\n",
        "\n",
        "# target output is a string, replace them to be integer values\n",
        "df['diagnosis'] = df['diagnosis'].map({'M':1, 'B':0})\n",
        "print(df.head())\n",
        "\n",
        "print()\n",
        "\n",
        "# display the columns' title\n",
        "columns_title=list(df.columns)\n",
        "print(columns_title)\n",
        "\n",
        "# convert to numpy\n",
        "data=df.to_numpy()\n",
        "\n",
        "# split inputs and output data\n",
        "data_in=data[:,1:] #input\n",
        "data_out=data[:,0] #output (m,) vector\n",
        "\n",
        "# print first 5 rows of outputs\n",
        "print(data_out[:5])\n",
        "\n",
        "# reshape data_out to match with the predicted output\n",
        "data_out = np.reshape(data_out,(-1,1)) # dimension becomes (m,1)\n",
        "\n",
        "# delete unnecesary variables to save some memory in Colab\n",
        "del data, df\n",
        "\n",
        "# display the shape of inputs and outputs\n",
        "print(f\"input dim:{data_in.shape}\")\n",
        "print(f\"output dim:{data_out.shape}\")"
      ]
    },
    {
      "cell_type": "code",
      "execution_count": 3,
      "metadata": {
        "colab": {
          "base_uri": "https://localhost:8080/"
        },
        "id": "7xmStHPZ3pRi",
        "outputId": "3fc0bbed-7602-4e60-b290-08600285d639"
      },
      "outputs": [
        {
          "output_type": "stream",
          "name": "stdout",
          "text": [
            "number of train data: (398, 30)\n",
            "number of test data: (171, 30)\n"
          ]
        }
      ],
      "source": [
        "# split data into training and test sets\n",
        "\n",
        "ratio = 0.7 # percentage of training dataset\n",
        "\n",
        "len_tr = int(ratio*len(data_in)) # data_in.shape[0]\n",
        "\n",
        "# training dataset\n",
        "tr_data_in = data_in[:len_tr]\n",
        "tr_data_out = data_out[:len_tr]\n",
        "\n",
        "# test dataset\n",
        "test_data_in = data_in[len_tr:]\n",
        "test_data_out = data_out[len_tr:]\n",
        "\n",
        "# display the shape of inputs and outputs\n",
        "print(f\"number of train data: {tr_data_in.shape}\")\n",
        "print(f\"number of test data: {test_data_in.shape}\")"
      ]
    },
    {
      "cell_type": "code",
      "execution_count": 17,
      "metadata": {
        "id": "jIttX-kA3pRj",
        "outputId": "38ae8e5d-f4c0-469d-9bd5-345a12d3d14f",
        "colab": {
          "base_uri": "https://localhost:8080/"
        }
      },
      "outputs": [
        {
          "output_type": "stream",
          "name": "stdout",
          "text": [
            "Number of train data with polynomial features: (398, 60)\n",
            "[[1.7990000e+01 1.0380000e+01 1.2280000e+02 1.0010000e+03 1.1840000e-01\n",
            "  2.7760000e-01 3.0010000e-01 1.4710000e-01 2.4190000e-01 7.8710000e-02\n",
            "  1.0950000e+00 9.0530000e-01 8.5890000e+00 1.5340000e+02 6.3990000e-03\n",
            "  4.9040000e-02 5.3730000e-02 1.5870000e-02 3.0030000e-02 6.1930000e-03\n",
            "  2.5380000e+01 1.7330000e+01 1.8460000e+02 2.0190000e+03 1.6220000e-01\n",
            "  6.6560000e-01 7.1190000e-01 2.6540000e-01 4.6010000e-01 1.1890000e-01\n",
            "  3.2364010e+02 1.0774440e+02 1.5079840e+04 1.0020010e+06 1.4018560e-02\n",
            "  7.7061760e-02 9.0060010e-02 2.1638410e-02 5.8515610e-02 6.1952641e-03\n",
            "  1.1990250e+00 8.1956809e-01 7.3770921e+01 2.3531560e+04 4.0947201e-05\n",
            "  2.4049216e-03 2.8869129e-03 2.5185690e-04 9.0180090e-04 3.8353249e-05\n",
            "  6.4414440e+02 3.0032890e+02 3.4077160e+04 4.0763610e+06 2.6308840e-02\n",
            "  4.4302336e-01 5.0680161e-01 7.0437160e-02 2.1169201e-01 1.4137210e-02]\n",
            " [2.0570000e+01 1.7770000e+01 1.3290000e+02 1.3260000e+03 8.4740000e-02\n",
            "  7.8640000e-02 8.6900000e-02 7.0170000e-02 1.8120000e-01 5.6670000e-02\n",
            "  5.4350000e-01 7.3390000e-01 3.3980000e+00 7.4080000e+01 5.2250000e-03\n",
            "  1.3080000e-02 1.8600000e-02 1.3400000e-02 1.3890000e-02 3.5320000e-03\n",
            "  2.4990000e+01 2.3410000e+01 1.5880000e+02 1.9560000e+03 1.2380000e-01\n",
            "  1.8660000e-01 2.4160000e-01 1.8600000e-01 2.7500000e-01 8.9020000e-02\n",
            "  4.2312490e+02 3.1577290e+02 1.7662410e+04 1.7582760e+06 7.1808676e-03\n",
            "  6.1842496e-03 7.5516100e-03 4.9238289e-03 3.2833440e-02 3.2114889e-03\n",
            "  2.9539225e-01 5.3860921e-01 1.1546404e+01 5.4878464e+03 2.7300625e-05\n",
            "  1.7108640e-04 3.4596000e-04 1.7956000e-04 1.9293210e-04 1.2475024e-05\n",
            "  6.2450010e+02 5.4802810e+02 2.5217440e+04 3.8259360e+06 1.5326440e-02\n",
            "  3.4819560e-02 5.8370560e-02 3.4596000e-02 7.5625000e-02 7.9245604e-03]]\n"
          ]
        }
      ],
      "source": [
        "# task 1 : polynomial features\n",
        "\n",
        "#I wrote a function to calculate the polynomial according to the power you give to it\n",
        "def add_polynomial (data , power):\n",
        "  new_features = []\n",
        "  m,n = data.shape\n",
        "  for i in range (n):\n",
        "    for p in range (2 , power+1):\n",
        "      new_feature = data[:, i] ** p\n",
        "      new_features.append(new_feature)\n",
        "\n",
        "  data_with_poly_features = np.column_stack([data] + new_features)\n",
        "  return data_with_poly_features\n",
        "\n",
        "\n",
        "tr_data_in_poly = add_polynomial(tr_data_in, 2)\n",
        "print(f\"Number of train data with polynomial features: {tr_data_in_poly.shape}\")\n",
        "print(tr_data_in_poly[:2, :])\n",
        "\n",
        "test_data_in_poly = add_polynomial(test_data_in , 2);"
      ]
    },
    {
      "cell_type": "code",
      "execution_count": 18,
      "metadata": {
        "colab": {
          "base_uri": "https://localhost:8080/"
        },
        "id": "R6MzJ8HS3pRk",
        "outputId": "21ebcadd-1ec8-4783-b465-11d0d3b7178c"
      },
      "outputs": [
        {
          "output_type": "stream",
          "name": "stdout",
          "text": [
            "[[0.52103744 0.0226581  0.54598853 0.3640416  0.68000973 0.7920373\n",
            "  0.70313964 0.73111332 0.66844634 0.60551811 0.35614702 0.12046941\n",
            "  0.3690336  0.28198282 0.15929565 0.35139844 0.13568182 0.30062512\n",
            "  0.31164518 0.18304244 0.69246032 0.14152452 0.75012578 0.56480227\n",
            "  0.60113584 0.61929156 0.56861022 0.91202749 0.59846245 0.41886396\n",
            "  0.37077387 0.00929172 0.39156326 0.157671   0.59369992 0.64482493\n",
            "  0.49440536 0.53452669 0.56977623 0.52857541 0.14397433 0.02906544\n",
            "  0.15169055 0.08500743 0.03934495 0.13093837 0.01840956 0.09037546\n",
            "  0.13606841 0.0422117  0.5617597  0.06747473 0.6302494  0.3441715\n",
            "  0.47754049 0.39537905 0.32331759 0.83179415 0.44984999 0.27750894]\n",
            " [0.64314449 0.27257355 0.61578329 0.50201656 0.27047086 0.18176799\n",
            "  0.20360825 0.34875746 0.34436733 0.14132266 0.15643672 0.08258929\n",
            "  0.12444047 0.1289653  0.11938675 0.08132304 0.0469697  0.25383595\n",
            "  0.08453875 0.0911101  0.67698413 0.30357143 0.60590307 0.54539855\n",
            "  0.34755332 0.15456336 0.19297125 0.63917526 0.23358959 0.22287813\n",
            "  0.50495209 0.1528949  0.46839188 0.2791725  0.19220517 0.04884286\n",
            "  0.04145632 0.12163176 0.24384841 0.10223362 0.03433274 0.01722736\n",
            "  0.02274047 0.01967973 0.02522015 0.00905795 0.00220615 0.06443269\n",
            "  0.021197   0.01312279 0.54277441 0.1747163  0.45318716 0.32284844\n",
            "  0.23066505 0.0304615  0.0372379  0.40854501 0.12287445 0.12229688]]\n"
          ]
        }
      ],
      "source": [
        "# task 2 : minmax normalization\n",
        "\n",
        "def min_max_norm (data):\n",
        "  min_vals = np.min(data, axis=0)\n",
        "  max_vals = np.max(data, axis=0)\n",
        "  norm_data = (data - min_vals) / (max_vals - min_vals)\n",
        "  return norm_data\n",
        "\n",
        "tr_data_in_poly_normalized = min_max_norm(tr_data_in_poly)\n",
        "print(tr_data_in_poly_normalized[:2, :])\n",
        "test_data_in_poly_normalized = min_max_norm(test_data_in_poly)"
      ]
    },
    {
      "cell_type": "code",
      "execution_count": 45,
      "metadata": {
        "id": "PKhy8QZC3pRk",
        "outputId": "0c2efd79-486a-4e31-b320-a64a722f8bc2",
        "colab": {
          "base_uri": "https://localhost:8080/"
        }
      },
      "outputs": [
        {
          "output_type": "stream",
          "name": "stdout",
          "text": [
            "w:[[0. 0. 0. 0. 0. 0. 0. 0. 0. 0. 0. 0. 0. 0. 0. 0. 0. 0. 0. 0. 0. 0. 0. 0.\n",
            "  0. 0. 0. 0. 0. 0. 0. 0. 0. 0. 0. 0. 0. 0. 0. 0. 0. 0. 0. 0. 0. 0. 0. 0.\n",
            "  0. 0. 0. 0. 0. 0. 0. 0. 0. 0. 0. 0.]]\n",
            "b:0\n",
            "Training complete.\n",
            "w:[[0.29518579 0.29518579 0.29518579 0.29518579 0.29518579 0.29518579\n",
            "  0.29518579 0.29518579 0.29518579 0.29518579 0.29518579 0.29518579\n",
            "  0.29518579 0.29518579 0.29518579 0.29518579 0.29518579 0.29518579\n",
            "  0.29518579 0.29518579 0.29518579 0.29518579 0.29518579 0.29518579\n",
            "  0.29518579 0.29518579 0.29518579 0.29518579 0.29518579 0.29518579\n",
            "  0.29518579 0.29518579 0.29518579 0.29518579 0.29518579 0.29518579\n",
            "  0.29518579 0.29518579 0.29518579 0.29518579 0.29518579 0.29518579\n",
            "  0.29518579 0.29518579 0.29518579 0.29518579 0.29518579 0.29518579\n",
            "  0.29518579 0.29518579 0.29518579 0.29518579 0.29518579 0.29518579\n",
            "  0.29518579 0.29518579 0.29518579 0.29518579 0.29518579 0.29518579]]\n",
            "b:-3.34234738366909\n",
            "Length of training_loss: 1000\n",
            "Length of testing_loss: 1000\n"
          ]
        }
      ],
      "source": [
        "#task 3 : logistic regression loss function and gradient descent algorithm\n",
        "\n",
        "max_epoch = 1000\n",
        "err = [] #errors\n",
        "training_loss = []\n",
        "testing_loss = []\n",
        "w = np.zeros((1,tr_data_in_poly_normalized.shape[1]))\n",
        "b = 0\n",
        "print(f\"w:{w}\")\n",
        "print(f\"b:{b}\")\n",
        "\n",
        "def sigmoid(z): #sigmoid function\n",
        "    return 1 / (1 + np.exp(-z))\n",
        "\n",
        "def loss_function(pred, true):\n",
        "    epsilon = 1e-15  # Small value to avoid log(0)\n",
        "    pred = np.clip(pred, epsilon, 1 - epsilon)  # Clip values to avoid log(0) and log(1)\n",
        "    return -np.mean(true * np.log(pred) + (1 - true) * np.log(1 - pred))\n",
        "\n",
        "\n",
        "def gradient_descent(X, y, w, b, learning_rate):\n",
        "    m = X.shape[0]  # Number of training samples\n",
        "\n",
        "    # Calculate predicted probabilities\n",
        "    z = np.dot(X, w.T) + b\n",
        "    y_pred = sigmoid(z)\n",
        "\n",
        "    # Compute the gradient of the loss with respect to the weights (w) and bias (b)\n",
        "    dw = np.sum(np.dot(X.T, (y_pred - y)))\n",
        "    db = np.sum(y_pred - y)\n",
        "\n",
        "    # Update the weights and bias\n",
        "    w = w - learning_rate * dw\n",
        "    b = b - learning_rate * db\n",
        "\n",
        "    # Calculate the cost (binary cross-entropy loss)\n",
        "    loss = loss_function(y_pred, y)\n",
        "\n",
        "    return w, b, loss\n",
        "\n",
        "\n",
        "for epoch in range(max_epoch):\n",
        "    #print(f\"epoch {epoch}/{max_epoch}\")\n",
        "    w, b, loss = gradient_descent(tr_data_in_poly_normalized, tr_data_out, w, b, 0.0001)\n",
        "\n",
        "    # Append the loss to the error list for monitoring\n",
        "    err.append(loss)\n",
        "    training_loss.append(loss)\n",
        "    #print(f\"loss: {loss}\")\n",
        "\n",
        "    #calculating test loss\n",
        "\n",
        "    z_test = np.dot(test_data_in_poly_normalized, w.T) + b\n",
        "    y_pred_test = sigmoid(z_test)\n",
        "\n",
        "    # Calculate the test loss using the actual predicted probabilities and true test labels\n",
        "    test_loss = loss_function(y_pred_test, test_data_out)\n",
        "    testing_loss.append(test_loss)\n",
        "\n",
        "print(\"Training complete.\")\n",
        "\n",
        "print(f\"w:{w}\")\n",
        "print(f\"b:{b}\")\n",
        "\n",
        "print(f\"Length of training_loss: {len(training_loss)}\")\n",
        "print(f\"Length of testing_loss: {len(testing_loss)}\")\n",
        "\n"
      ]
    },
    {
      "cell_type": "code",
      "source": [
        "#task 4 : plot learning curve\n",
        "\n",
        "plt.figure(figsize=(12, 6))\n",
        "plt.plot(range(max_epoch), training_loss, label=\"Training Loss\")\n",
        "plt.plot(range(max_epoch), testing_loss, label=\"Test Loss\")\n",
        "plt.xlabel(\"Epoch\")\n",
        "plt.ylabel(\"Loss\")\n",
        "plt.title(\"Learning Curve and Test Curve\")\n",
        "plt.legend()\n",
        "plt.grid(True)\n",
        "plt.show()"
      ],
      "metadata": {
        "id": "Cq2YNbUkM4Jr",
        "outputId": "56735ce4-b150-4020-ce0a-831d33717d5f",
        "colab": {
          "base_uri": "https://localhost:8080/",
          "height": 491
        }
      },
      "execution_count": 46,
      "outputs": [
        {
          "output_type": "display_data",
          "data": {
            "text/plain": [
              "<Figure size 1200x600 with 1 Axes>"
            ],
            "image/png": "[encoded data removed]"
          },
          "metadata": {}
        }
      ]
    },
    {
      "cell_type": "code",
      "source": [
        "#task 5 generate test prediction\n",
        "threshold = 0.5\n",
        "z_test = np.dot(test_data_in_poly_normalized, w.T) + b\n",
        "y_pred_test = sigmoid(z_test)\n",
        "y_pred_binary = (y_pred_test > threshold).astype(int)\n",
        "\n",
        "print(f\"shape of output : {y_pred_test.shape}\")\n",
        "print(f\"w:{y_pred_binary}\")\n"
      ],
      "metadata": {
        "id": "h38-dVrs4Hwv",
        "outputId": "0608bf60-c32c-4bab-ca6a-f8be236cb172",
        "colab": {
          "base_uri": "https://localhost:8080/"
        }
      },
      "execution_count": 48,
      "outputs": [
        {
          "output_type": "stream",
          "name": "stdout",
          "text": [
            "shape of output : (171, 1)\n",
            "w:[[0]\n",
            " [0]\n",
            " [1]\n",
            " [0]\n",
            " [0]\n",
            " [0]\n",
            " [0]\n",
            " [0]\n",
            " [0]\n",
            " [1]\n",
            " [1]\n",
            " [0]\n",
            " [0]\n",
            " [0]\n",
            " [0]\n",
            " [1]\n",
            " [1]\n",
            " [1]\n",
            " [1]\n",
            " [1]\n",
            " [0]\n",
            " [0]\n",
            " [0]\n",
            " [1]\n",
            " [0]\n",
            " [1]\n",
            " [1]\n",
            " [0]\n",
            " [1]\n",
            " [0]\n",
            " [0]\n",
            " [0]\n",
            " [1]\n",
            " [1]\n",
            " [1]\n",
            " [1]\n",
            " [0]\n",
            " [1]\n",
            " [0]\n",
            " [0]\n",
            " [0]\n",
            " [0]\n",
            " [1]\n",
            " [1]\n",
            " [0]\n",
            " [0]\n",
            " [1]\n",
            " [1]\n",
            " [1]\n",
            " [0]\n",
            " [0]\n",
            " [1]\n",
            " [1]\n",
            " [1]\n",
            " [1]\n",
            " [0]\n",
            " [0]\n",
            " [1]\n",
            " [1]\n",
            " [0]\n",
            " [0]\n",
            " [0]\n",
            " [1]\n",
            " [1]\n",
            " [0]\n",
            " [0]\n",
            " [0]\n",
            " [1]\n",
            " [1]\n",
            " [0]\n",
            " [1]\n",
            " [1]\n",
            " [0]\n",
            " [1]\n",
            " [0]\n",
            " [0]\n",
            " [0]\n",
            " [0]\n",
            " [1]\n",
            " [0]\n",
            " [0]\n",
            " [1]\n",
            " [0]\n",
            " [0]\n",
            " [0]\n",
            " [0]\n",
            " [1]\n",
            " [1]\n",
            " [0]\n",
            " [1]\n",
            " [0]\n",
            " [1]\n",
            " [0]\n",
            " [0]\n",
            " [1]\n",
            " [0]\n",
            " [0]\n",
            " [0]\n",
            " [1]\n",
            " [0]\n",
            " [1]\n",
            " [1]\n",
            " [0]\n",
            " [1]\n",
            " [1]\n",
            " [1]\n",
            " [1]\n",
            " [1]\n",
            " [1]\n",
            " [1]\n",
            " [0]\n",
            " [1]\n",
            " [0]\n",
            " [0]\n",
            " [1]\n",
            " [0]\n",
            " [0]\n",
            " [0]\n",
            " [1]\n",
            " [1]\n",
            " [1]\n",
            " [1]\n",
            " [1]\n",
            " [1]\n",
            " [0]\n",
            " [1]\n",
            " [0]\n",
            " [0]\n",
            " [1]\n",
            " [0]\n",
            " [1]\n",
            " [0]\n",
            " [0]\n",
            " [0]\n",
            " [0]\n",
            " [1]\n",
            " [0]\n",
            " [1]\n",
            " [1]\n",
            " [1]\n",
            " [0]\n",
            " [1]\n",
            " [1]\n",
            " [1]\n",
            " [1]\n",
            " [0]\n",
            " [0]\n",
            " [0]\n",
            " [0]\n",
            " [0]\n",
            " [0]\n",
            " [0]\n",
            " [0]\n",
            " [1]\n",
            " [0]\n",
            " [0]\n",
            " [0]\n",
            " [1]\n",
            " [0]\n",
            " [0]\n",
            " [1]\n",
            " [1]\n",
            " [1]\n",
            " [0]\n",
            " [1]\n",
            " [1]\n",
            " [1]\n",
            " [1]\n",
            " [1]\n",
            " [1]\n",
            " [0]]\n"
          ]
        }
      ]
    },
    {
      "cell_type": "code",
      "source": [
        "#task 6 : fill the confusion matrix"
      ],
      "metadata": {
        "id": "KN0RFOFl6P7q"
      },
      "execution_count": null,
      "outputs": []
    },
    {
      "cell_type": "code",
      "execution_count": null,
      "metadata": {
        "id": "Y8zSAJOD3pRl"
      },
      "outputs": [],
      "source": [
        "# helper function to plot confusion matrix\n",
        "\n",
        "def plot_conf_mat(conf_mat):\n",
        "\n",
        "    class_label=[\"P\",\"N\"]\n",
        "\n",
        "    plt.subplots(figsize=(8, 8))\n",
        "    sns.set(font_scale=1.5) # Adjust the font to fit\n",
        "    sns.heatmap(conf_mat,\n",
        "                annot=True,\n",
        "                cbar=False,\n",
        "                xticklabels=class_label,\n",
        "                yticklabels=class_label,\n",
        "                cmap='Blues')\n",
        "\n",
        "    plt.ylabel('Actual')\n",
        "    plt.xlabel('Predicted')\n",
        "    plt.show()"
      ]
    },
    {
      "cell_type": "code",
      "execution_count": null,
      "metadata": {
        "id": "Lbc2CUeJ3pRm",
        "outputId": "2b7bd198-bd2c-46be-b45e-6ce44bcc34ae"
      },
      "outputs": [
        {
          "data": {
            "image/png": "[encoded data removed]",
            "text/plain": [
              "<Figure size 800x800 with 1 Axes>"
            ]
          },
          "metadata": {},
          "output_type": "display_data"
        }
      ],
      "source": [
        "conf_mat = np.zeros((2,2),dtype=int)\n",
        "# you need to write algorithm here to update conf_mat\n",
        "# you have to use test dataset\n",
        "\n",
        "# plot the confusion matrix\n",
        "plot_conf_mat(conf_mat)"
      ]
    },
    {
      "cell_type": "code",
      "execution_count": null,
      "metadata": {
        "id": "_aEGg5zI3pRn",
        "outputId": "f47cc20c-0e87-444d-e80a-aab113326444"
      },
      "outputs": [
        {
          "data": {
            "image/png": "[encoded data removed]",
            "text/plain": [
              "<Figure size 640x480 with 1 Axes>"
            ]
          },
          "metadata": {},
          "output_type": "display_data"
        }
      ],
      "source": [
        "# test each learning rate and obtained F1 score for each one,\n",
        "# do experiments one by one and fill the F1 scores manually\n",
        "# use test dataset\n",
        "\n",
        "LR = [0.0001, 0.0005, 0.0007, 0.001, 0.005, 0.001, 0.01, 0.05, 0.09, 0.1, 0.4, 0.7]\n",
        "# you need to update F1_score_list\n",
        "F1_score_list = [0,1,2,3,4,5,6,7,8,9,10,11]\n",
        "\n",
        "plt.plot(LR, F1_score_list, 'o:k')\n",
        "plt.xlabel(\"LR\")\n",
        "plt.ylabel(\"F1 Scores\")\n",
        "plt.show()"
      ]
    }
  ],
  "metadata": {
    "kernelspec": {
      "display_name": "tf",
      "language": "python",
      "name": "python3"
    },
    "language_info": {
      "codemirror_mode": {
        "name": "ipython",
        "version": 3
      },
      "file_extension": ".py",
      "mimetype": "text/x-python",
      "name": "python",
      "nbconvert_exporter": "python",
      "pygments_lexer": "ipython3",
      "version": "3.10.11"
    },
    "orig_nbformat": 4,
    "colab": {
      "provenance": [],
      "include_colab_link": true
    }
  },
  "nbformat": 4,
  "nbformat_minor": 0
}